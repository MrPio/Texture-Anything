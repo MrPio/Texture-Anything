{
 "cells": [
  {
   "cell_type": "code",
   "execution_count": 4,
   "id": "bdd8cfa4",
   "metadata": {},
   "outputs": [],
   "source": [
    "import objaverse\n",
    "import objaverse.xl as xl\n",
    "import pandas as pd\n",
    "import pickle\n",
    "import os\n",
    "from collections import Counter\n",
    "from random import sample\n",
    "from tqdm import tqdm\n",
    "import seaborn as sns\n",
    "import matplotlib.pyplot as plt\n",
    "from matplotlib.lines import Line2D\n",
    "\n",
    "sns.set_style(\"darkgrid\")\n",
    "sns.set_context(\"notebook\", font_scale=1.15)"
   ]
  },
  {
   "cell_type": "markdown",
   "id": "73ce114c",
   "metadata": {},
   "source": [
    "# Understanding Objaverse\n",
    "- `ObjaverseXL` has $\\gt 10m$ objects (Thingiverse, GitHub, Polycam, etc.), with *unconsistent annotations*\n",
    "- `Objaverse 1.0` has $~800k$ objects (mostly from Sketchfab), with *clean annotations*. It's been filtered to include only good models."
   ]
  },
  {
   "cell_type": "markdown",
   "id": "a8bdad2b",
   "metadata": {},
   "source": [
    "## ObjaverseXL annotations are lacking"
   ]
  },
  {
   "cell_type": "code",
   "execution_count": null,
   "id": "723b4654",
   "metadata": {},
   "outputs": [],
   "source": [
    "# 12s\n",
    "# This downloads a single Parquet file (~100 MB) and caches it locally under ~/.objaverse\n",
    "annotations_xl = (xl.get_annotations(refresh=False) \n",
    "                  if not os.path.exists('objaverse xl.pkl') \n",
    "                  else pickle.load(open('objaverse xl.pkl', 'rb')))"
   ]
  },
  {
   "cell_type": "code",
   "execution_count": null,
   "id": "636529c1",
   "metadata": {},
   "outputs": [
    {
     "data": {
      "text/html": [
       "<div>\n",
       "<style scoped>\n",
       "    .dataframe tbody tr th:only-of-type {\n",
       "        vertical-align: middle;\n",
       "    }\n",
       "\n",
       "    .dataframe tbody tr th {\n",
       "        vertical-align: top;\n",
       "    }\n",
       "\n",
       "    .dataframe thead th {\n",
       "        text-align: right;\n",
       "    }\n",
       "</style>\n",
       "<table border=\"1\" class=\"dataframe\">\n",
       "  <thead>\n",
       "    <tr style=\"text-align: right;\">\n",
       "      <th></th>\n",
       "      <th>fileIdentifier</th>\n",
       "      <th>source</th>\n",
       "      <th>license</th>\n",
       "      <th>fileType</th>\n",
       "      <th>sha256</th>\n",
       "      <th>metadata</th>\n",
       "    </tr>\n",
       "  </thead>\n",
       "  <tbody>\n",
       "    <tr>\n",
       "      <th>0</th>\n",
       "      <td>https://github.com/GameGC/Testovoe-SPB-Git/blo...</td>\n",
       "      <td>github</td>\n",
       "      <td>None</td>\n",
       "      <td>obj</td>\n",
       "      <td>fca3990d6d91e110cb920aa3da1a84e54b4a00cde7ad1e...</td>\n",
       "      <td>{}</td>\n",
       "    </tr>\n",
       "    <tr>\n",
       "      <th>1</th>\n",
       "      <td>https://github.com/9-zzz/RitualRex-GGJ2016/blo...</td>\n",
       "      <td>github</td>\n",
       "      <td>None</td>\n",
       "      <td>blend</td>\n",
       "      <td>09dc2689b8d0510885e19a7b525ee44709849d2601add8...</td>\n",
       "      <td>{}</td>\n",
       "    </tr>\n",
       "    <tr>\n",
       "      <th>2</th>\n",
       "      <td>https://github.com/mattoverby/mesh-data/blob/2...</td>\n",
       "      <td>github</td>\n",
       "      <td>MIT License</td>\n",
       "      <td>obj</td>\n",
       "      <td>f9d17190b54b548c6a3e6feebe7b2951a9b8060c507874...</td>\n",
       "      <td>{}</td>\n",
       "    </tr>\n",
       "    <tr>\n",
       "      <th>3</th>\n",
       "      <td>https://github.com/0010cha/data_origami/blob/0...</td>\n",
       "      <td>github</td>\n",
       "      <td>MIT License</td>\n",
       "      <td>ply</td>\n",
       "      <td>f25184898312af8ed5e77cfe675d2251c9893ac5ccc3a1...</td>\n",
       "      <td>{}</td>\n",
       "    </tr>\n",
       "    <tr>\n",
       "      <th>4</th>\n",
       "      <td>https://github.com/Xrvitd/Point2Skeleton_withC...</td>\n",
       "      <td>github</td>\n",
       "      <td>MIT License</td>\n",
       "      <td>ply</td>\n",
       "      <td>d721e6b1b97a83d1f6700045efcb478a1db4686b0571f6...</td>\n",
       "      <td>{}</td>\n",
       "    </tr>\n",
       "  </tbody>\n",
       "</table>\n",
       "</div>"
      ],
      "text/plain": [
       "                                      fileIdentifier  source      license  \\\n",
       "0  https://github.com/GameGC/Testovoe-SPB-Git/blo...  github         None   \n",
       "1  https://github.com/9-zzz/RitualRex-GGJ2016/blo...  github         None   \n",
       "2  https://github.com/mattoverby/mesh-data/blob/2...  github  MIT License   \n",
       "3  https://github.com/0010cha/data_origami/blob/0...  github  MIT License   \n",
       "4  https://github.com/Xrvitd/Point2Skeleton_withC...  github  MIT License   \n",
       "\n",
       "  fileType                                             sha256 metadata  \n",
       "0      obj  fca3990d6d91e110cb920aa3da1a84e54b4a00cde7ad1e...       {}  \n",
       "1    blend  09dc2689b8d0510885e19a7b525ee44709849d2601add8...       {}  \n",
       "2      obj  f9d17190b54b548c6a3e6feebe7b2951a9b8060c507874...       {}  \n",
       "3      ply  f25184898312af8ed5e77cfe675d2251c9893ac5ccc3a1...       {}  \n",
       "4      ply  d721e6b1b97a83d1f6700045efcb478a1db4686b0571f6...       {}  "
      ]
     },
     "execution_count": 7,
     "metadata": {},
     "output_type": "execute_result"
    }
   ],
   "source": [
    "annotations_xl.head()"
   ]
  },
  {
   "cell_type": "markdown",
   "id": "5c4e322d",
   "metadata": {},
   "source": [
    "Here we can see that the annotations are both sparse and scarce. Only few of the samples actually have a value in the metadata column."
   ]
  },
  {
   "cell_type": "markdown",
   "id": "4be516a9",
   "metadata": {},
   "source": [
    "## Objaverse 1.0 annotations are structured and consistent"
   ]
  },
  {
   "cell_type": "code",
   "execution_count": 7,
   "id": "0a48cbc1",
   "metadata": {},
   "outputs": [],
   "source": [
    "# 60s-23s\n",
    "annotations = (objaverse.load_annotations()\n",
    "               if not os.path.exists('objaverse 1.0.pkl') \n",
    "               else pickle.load(open('objaverse 1.0.pkl', 'rb')))"
   ]
  },
  {
   "cell_type": "code",
   "execution_count": 5,
   "id": "1de2ee2f",
   "metadata": {},
   "outputs": [],
   "source": [
    "def convert_annotations(annotations: dict[str, any]) -> pd.DataFrame:\n",
    "    keys_to_keep = ['uri', 'uid', 'name', 'likeCount', 'animationCount', 'viewerUrl', 'commentCount', 'tags',\n",
    "                    'categories', 'thumbnails', 'description', 'faceCount', 'createdAt', 'vertexCount', 'isAgeRestricted', 'archives']\n",
    "\n",
    "    def clean_annotation(annotation: dict[str, any]) -> pd.DataFrame:\n",
    "        # Remove unnecessary keys\n",
    "        for key in list(annotation.keys()):\n",
    "            if key not in keys_to_keep:\n",
    "                annotation.pop(key)\n",
    "        # Keep only \"name\" field in \"tags\" and \"categories\"\n",
    "        annotation['tags'] = [tag['name'] if isinstance(\n",
    "            tag, dict) else tag for tag in annotation['tags']]\n",
    "        annotation['categories'] = [category['name'] if isinstance(category, dict) else category\n",
    "                                    for category in annotation['categories']]\n",
    "        # Keep only \"url\" field in \"thumbnails\"\n",
    "        if isinstance(annotation['thumbnails'], dict):\n",
    "            annotation['thumbnails'] = [thumbnail['url']\n",
    "                                        for thumbnail in annotation['thumbnails']['images']]\n",
    "        return annotation\n",
    "\n",
    "    cleaned_annotations = list(tqdm(map(clean_annotation, annotations), total=len(\n",
    "        annotations), desc=\"Processing Annotations\"))\n",
    "    return pd.DataFrame(cleaned_annotations, columns=keys_to_keep)"
   ]
  },
  {
   "cell_type": "code",
   "execution_count": 9,
   "id": "3b8ef5ae",
   "metadata": {},
   "outputs": [],
   "source": [
    "if os.path.exists('objaverse_cleaned.csv'):\n",
    "    annotations_filtered = pd.read_csv('objaverse_cleaned.csv')\n",
    "else:\n",
    "    annotations_filtered = convert_annotations(list(annotations.values()))\n",
    "    annotations_filtered.to_csv('objaverse_cleaned.csv', index=False)"
   ]
  },
  {
   "cell_type": "markdown",
   "id": "8fdc0abf",
   "metadata": {},
   "source": [
    "The cleaned annotation dataset has the following columns:\n",
    "| Column           | Note                                                                 |\n",
    "|------------------|-----------------------------------------------------------------------------|\n",
    "| `uri`            | The ULR of the model's Scketchfab page.                             |\n",
    "| `uid`            | Used to download the object.                                      |\n",
    "| `name`           | -|\n",
    "| `likeCount`      | -|\n",
    "| `animationCount` | -|\n",
    "| `commentCount`   | -|\n",
    "| `tags`           | A list.                                 |\n",
    "| `categories`     | A list.                                |\n",
    "| `thumbnails`     | A list of URLs with different image resolution. May no longer work.                          |\n",
    "| `description`    | Missing in $37%$ of the samples.                                     |\n",
    "| `faceCount`      | May be a good filtering criterion.                   |\n",
    "| `vertexCount`    | -                           |\n",
    "| `createdAt`      | -                             |\n",
    "| `isAgeRestricted`| -                 |\n",
    "| `archives`       | The available file formats.                        |"
   ]
  },
  {
   "cell_type": "markdown",
   "id": "f55541c0",
   "metadata": {},
   "source": [
    "## Filter Objaverse 1.0 annotations\n",
    "We're gonna use \"faceCounts\" as first filtering critetion. \n",
    "\n",
    "How is the number of feces distributed across the samples?"
   ]
  },
  {
   "cell_type": "code",
   "execution_count": 41,
   "id": "800345a2",
   "metadata": {},
   "outputs": [
    {
     "data": {
      "image/png": "[encoded data removed]",
      "text/plain": [
       "<Figure size 1200x500 with 1 Axes>"
      ]
     },
     "metadata": {},
     "output_type": "display_data"
    }
   ],
   "source": [
    "MAX_FACES = 2_000\n",
    "\n",
    "plt.figure(figsize=(12, 5))\n",
    "ax=sns.kdeplot(annotations_filtered['faceCount'][annotations_filtered['faceCount']<1e6][::1], fill=True, color='tab:blue', alpha=0.65, linewidth=2)\n",
    "plt.xlabel(\"Face Count\")\n",
    "plt.ylabel(\"Density\")\n",
    "plt.title(\"Distribution of Face Count\")\n",
    "ax.add_line(Line2D([MAX_FACES]*2, [0, 1], color='b', linestyle='--', linewidth=2))\n",
    "plt.show()"
   ]
  }
 ],
 "metadata": {
  "kernelspec": {
   "display_name": ".venv",
   "language": "python",
   "name": "python3"
  },
  "language_info": {
   "codemirror_mode": {
    "name": "ipython",
    "version": 3
   },
   "file_extension": ".py",
   "mimetype": "text/x-python",
   "name": "python",
   "nbconvert_exporter": "python",
   "pygments_lexer": "ipython3",
   "version": "3.11.6"
  }
 },
 "nbformat": 4,
 "nbformat_minor": 5
}
