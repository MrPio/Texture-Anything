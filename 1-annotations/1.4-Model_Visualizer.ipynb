{
 "cells": [
  {
   "cell_type": "code",
   "execution_count": null,
   "id": "5cb705db",
   "metadata": {},
   "outputs": [],
   "source": [
    "import pandas as pd\n",
    "import seaborn as sns\n",
    "import requests\n",
    "from tqdm import tqdm\n",
    "import numpy as np\n",
    "from concurrent.futures import ThreadPoolExecutor\n",
    "import objaverse\n",
    "\n",
    "sns.set_style(\"darkgrid\")\n",
    "sns.set_context(\"notebook\", font_scale=1.15)\n",
    "tqdm.pandas()"
   ]
  },
  {
   "cell_type": "markdown",
   "id": "74fd06d5",
   "metadata": {},
   "source": [
    "# Visualize a 3D object from the dataset\n",
    "##### ℹ️ This notebook requires `data/2-annotations_filtered_by_thumbnails.parquet`\n",
    "This notebook downloads and visualize the samples."
   ]
  },
  {
   "cell_type": "code",
   "execution_count": 3,
   "id": "015dbee7",
   "metadata": {},
   "outputs": [
    {
     "data": {
      "text/html": [
       "<div>\n",
       "<style scoped>\n",
       "    .dataframe tbody tr th:only-of-type {\n",
       "        vertical-align: middle;\n",
       "    }\n",
       "\n",
       "    .dataframe tbody tr th {\n",
       "        vertical-align: top;\n",
       "    }\n",
       "\n",
       "    .dataframe thead th {\n",
       "        text-align: right;\n",
       "    }\n",
       "</style>\n",
       "<table border=\"1\" class=\"dataframe\">\n",
       "  <thead>\n",
       "    <tr style=\"text-align: right;\">\n",
       "      <th></th>\n",
       "      <th>uid</th>\n",
       "      <th>name</th>\n",
       "      <th>likeCount</th>\n",
       "      <th>animationCount</th>\n",
       "      <th>commentCount</th>\n",
       "      <th>tags</th>\n",
       "      <th>categories</th>\n",
       "      <th>description</th>\n",
       "      <th>faceCount</th>\n",
       "      <th>createdAt</th>\n",
       "      <th>vertexCount</th>\n",
       "      <th>archives</th>\n",
       "      <th>thumbnail</th>\n",
       "    </tr>\n",
       "  </thead>\n",
       "  <tbody>\n",
       "    <tr>\n",
       "      <th>0</th>\n",
       "      <td>fcdfc931f73b4865a4a4005c65fc2afe</td>\n",
       "      <td>Espen 3D Brain</td>\n",
       "      <td>1</td>\n",
       "      <td>0</td>\n",
       "      <td>0</td>\n",
       "      <td>[]</td>\n",
       "      <td>[]</td>\n",
       "      <td></td>\n",
       "      <td>108</td>\n",
       "      <td>2018-08-31T12:50:51.229131</td>\n",
       "      <td>56</td>\n",
       "      <td>{'extra': None, 'glb': {'faceCount': 108, 'siz...</td>\n",
       "      <td>https://media.sketchfab.com/models/fcdfc931f73...</td>\n",
       "    </tr>\n",
       "  </tbody>\n",
       "</table>\n",
       "</div>"
      ],
      "text/plain": [
       "                                uid            name  likeCount  \\\n",
       "0  fcdfc931f73b4865a4a4005c65fc2afe  Espen 3D Brain          1   \n",
       "\n",
       "   animationCount  commentCount tags categories description  faceCount  \\\n",
       "0               0             0   []         []                    108   \n",
       "\n",
       "                    createdAt  vertexCount  \\\n",
       "0  2018-08-31T12:50:51.229131           56   \n",
       "\n",
       "                                            archives  \\\n",
       "0  {'extra': None, 'glb': {'faceCount': 108, 'siz...   \n",
       "\n",
       "                                           thumbnail  \n",
       "0  https://media.sketchfab.com/models/fcdfc931f73...  "
      ]
     },
     "execution_count": 3,
     "metadata": {},
     "output_type": "execute_result"
    }
   ],
   "source": [
    "annotations = pd.read_parquet('../data/2-annotations_filtered_by_thumbnails.parquet')\n",
    "annotations.head(1)"
   ]
  },
  {
   "cell_type": "code",
   "execution_count": null,
   "id": "333f4da8",
   "metadata": {},
   "outputs": [],
   "source": [
    "objaverse.load_objects"
   ]
  }
 ],
 "metadata": {
  "kernelspec": {
   "display_name": ".venv",
   "language": "python",
   "name": "python3"
  },
  "language_info": {
   "codemirror_mode": {
    "name": "ipython",
    "version": 3
   },
   "file_extension": ".py",
   "mimetype": "text/x-python",
   "name": "python",
   "nbconvert_exporter": "python",
   "pygments_lexer": "ipython3",
   "version": "3.11.6"
  }
 },
 "nbformat": 4,
 "nbformat_minor": 5
}
