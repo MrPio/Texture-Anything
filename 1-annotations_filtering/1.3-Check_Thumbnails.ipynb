{
 "cells": [
  {
   "cell_type": "code",
   "execution_count": 62,
   "id": "8034c6df",
   "metadata": {},
   "outputs": [],
   "source": [
    "import pandas as pd\n",
    "import seaborn as sns\n",
    "import requests\n",
    "from tqdm import tqdm\n",
    "import numpy as np\n",
    "from concurrent.futures import ThreadPoolExecutor\n",
    "\n",
    "sns.set_style(\"darkgrid\")\n",
    "sns.set_context(\"notebook\", font_scale=1.15)\n",
    "tqdm.pandas()"
   ]
  },
  {
   "cell_type": "markdown",
   "id": "afe9e40d",
   "metadata": {},
   "source": [
    "# Check the availability of the thumbnails\n",
    "##### ℹ️ This notebook requires `data/1-annotations_filtered.parquet` and outputs `data/2-annotations_filtered_by_thumbnails.parquet`\n",
    "This notebook processes the thumbnails according to their current availability (HTTP 200) and selects the version with the highest resolution."
   ]
  },
  {
   "cell_type": "code",
   "execution_count": null,
   "id": "465c2443",
   "metadata": {},
   "outputs": [
    {
     "data": {
      "text/html": [
       "<div>\n",
       "<style scoped>\n",
       "    .dataframe tbody tr th:only-of-type {\n",
       "        vertical-align: middle;\n",
       "    }\n",
       "\n",
       "    .dataframe tbody tr th {\n",
       "        vertical-align: top;\n",
       "    }\n",
       "\n",
       "    .dataframe thead th {\n",
       "        text-align: right;\n",
       "    }\n",
       "</style>\n",
       "<table border=\"1\" class=\"dataframe\">\n",
       "  <thead>\n",
       "    <tr style=\"text-align: right;\">\n",
       "      <th></th>\n",
       "      <th>uid</th>\n",
       "      <th>name</th>\n",
       "      <th>likeCount</th>\n",
       "      <th>animationCount</th>\n",
       "      <th>commentCount</th>\n",
       "      <th>tags</th>\n",
       "      <th>categories</th>\n",
       "      <th>thumbnails</th>\n",
       "      <th>description</th>\n",
       "      <th>faceCount</th>\n",
       "      <th>createdAt</th>\n",
       "      <th>vertexCount</th>\n",
       "      <th>archives</th>\n",
       "    </tr>\n",
       "  </thead>\n",
       "  <tbody>\n",
       "    <tr>\n",
       "      <th>0</th>\n",
       "      <td>11102f046e7846b8b4053bce5779d95c</td>\n",
       "      <td>Research&gt;Mechanisms&gt;Systems&gt;Mark VI/VII Gate</td>\n",
       "      <td>2</td>\n",
       "      <td>0</td>\n",
       "      <td>0</td>\n",
       "      <td>[gate, mark, metroid, vi, prime, 2, vii]</td>\n",
       "      <td>[architecture, electronics-gadgets]</td>\n",
       "      <td>[https://media.sketchfab.com/models/11102f046e...</td>\n",
       "      <td>Both 6 and 7 use the same model.\\n\\nMechanism:...</td>\n",
       "      <td>208</td>\n",
       "      <td>2022-05-06T03:49:10.436446</td>\n",
       "      <td>118</td>\n",
       "      <td>{'extra': None, 'glb': {'faceCount': 208, 'siz...</td>\n",
       "    </tr>\n",
       "  </tbody>\n",
       "</table>\n",
       "</div>"
      ],
      "text/plain": [
       "                                uid  \\\n",
       "0  11102f046e7846b8b4053bce5779d95c   \n",
       "\n",
       "                                           name  likeCount  animationCount  \\\n",
       "0  Research>Mechanisms>Systems>Mark VI/VII Gate          2               0   \n",
       "\n",
       "   commentCount                                      tags  \\\n",
       "0             0  [gate, mark, metroid, vi, prime, 2, vii]   \n",
       "\n",
       "                            categories  \\\n",
       "0  [architecture, electronics-gadgets]   \n",
       "\n",
       "                                          thumbnails  \\\n",
       "0  [https://media.sketchfab.com/models/11102f046e...   \n",
       "\n",
       "                                         description  faceCount  \\\n",
       "0  Both 6 and 7 use the same model.\\n\\nMechanism:...        208   \n",
       "\n",
       "                    createdAt  vertexCount  \\\n",
       "0  2022-05-06T03:49:10.436446          118   \n",
       "\n",
       "                                            archives  \n",
       "0  {'extra': None, 'glb': {'faceCount': 208, 'siz...  "
      ]
     },
     "execution_count": 2,
     "metadata": {},
     "output_type": "execute_result"
    }
   ],
   "source": [
    "annotations = pd.read_parquet('../data/1-annotations_filtered.parquet')\n",
    "annotations.head(1)"
   ]
  },
  {
   "cell_type": "markdown",
   "id": "7a35392c",
   "metadata": {},
   "source": [
    "## ThreadPoolExecutor to speed up (from 2h:15m to 3m)\n",
    "Here we select the first higher resolution thumbnail for each object, or None if no thumbnail is available."
   ]
  },
  {
   "cell_type": "code",
   "execution_count": 63,
   "id": "78187752",
   "metadata": {},
   "outputs": [],
   "source": [
    "def check_thumbnails(row) -> str | None:\n",
    "    def is_available(url) -> bool:\n",
    "        try:\n",
    "            response = requests.head(url, timeout=5)\n",
    "            return response.status_code == 200\n",
    "        except requests.RequestException:\n",
    "            return False\n",
    "\n",
    "    if not isinstance(row['thumbnails'], np.ndarray):\n",
    "        return None\n",
    "\n",
    "    for thumbnail in row['thumbnails'][::-1] if 'x' in row['thumbnails'][0][-8] else row['thumbnails']:\n",
    "        if is_available(thumbnail):\n",
    "            return thumbnail\n",
    "    return None"
   ]
  },
  {
   "cell_type": "code",
   "execution_count": 64,
   "id": "482117ad",
   "metadata": {},
   "outputs": [],
   "source": [
    "def parallel_apply(df, func, max_workers=8):\n",
    "    with ThreadPoolExecutor(max_workers=max_workers) as executor:\n",
    "        rows = [row for _, row in df.iterrows()]\n",
    "        results = list(tqdm(executor.map(func, rows), total=len(rows), desc='Processing'))\n",
    "    return results"
   ]
  },
  {
   "cell_type": "code",
   "execution_count": 66,
   "id": "8169a131",
   "metadata": {},
   "outputs": [
    {
     "name": "stderr",
     "output_type": "stream",
     "text": [
      "Processing: 100%|██████████| 76580/76580 [02:57<00:00, 432.59it/s]\n"
     ]
    }
   ],
   "source": [
    "thumbnails = parallel_apply(annotations, check_thumbnails, max_workers=64)"
   ]
  },
  {
   "cell_type": "code",
   "execution_count": 68,
   "id": "89edf58e",
   "metadata": {},
   "outputs": [],
   "source": [
    "annotations['thumbnail'] = thumbnails\n",
    "annotations.drop(columns=['thumbnails'], inplace=True)"
   ]
  },
  {
   "cell_type": "code",
   "execution_count": null,
   "id": "f251672f",
   "metadata": {},
   "outputs": [],
   "source": [
    "annotations_filtered=annotations[annotations['thumbnail'].notna()]\n",
    "annotations_filtered.set_index('uid', inplace=True)\n",
    "annotations_filtered.to_parquet('../data/2-annotations_filtered_by_thumbnails.parquet', index=False)"
   ]
  }
 ],
 "metadata": {
  "kernelspec": {
   "display_name": ".venv",
   "language": "python",
   "name": "python3"
  },
  "language_info": {
   "codemirror_mode": {
    "name": "ipython",
    "version": 3
   },
   "file_extension": ".py",
   "mimetype": "text/x-python",
   "name": "python",
   "nbconvert_exporter": "python",
   "pygments_lexer": "ipython3",
   "version": "3.11.6"
  }
 },
 "nbformat": 4,
 "nbformat_minor": 5
}
