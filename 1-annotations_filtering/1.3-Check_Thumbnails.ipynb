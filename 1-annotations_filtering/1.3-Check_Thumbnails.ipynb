{
 "cells": [
  {
   "cell_type": "code",
   "execution_count": 2,
   "id": "8034c6df",
   "metadata": {},
   "outputs": [],
   "source": [
    "import pandas as pd\n",
    "import seaborn as sns\n",
    "import requests\n",
    "from tqdm import tqdm\n",
    "import numpy as np\n",
    "from concurrent.futures import ThreadPoolExecutor\n",
    "from pathlib import Path\n",
    "import sys\n",
    "\n",
    "sys.path.append(str(Path(\"..\").resolve()))\n",
    "from src import *\n",
    "sns.set_style(\"darkgrid\")\n",
    "sns.set_context(\"notebook\", font_scale=1.15)\n",
    "tqdm.pandas()"
   ]
  },
  {
   "cell_type": "markdown",
   "id": "afe9e40d",
   "metadata": {},
   "source": [
    "# Check the availability of the thumbnails\n",
    "##### ℹ️ This notebook requires `dataset/objaverse/1-annotations_filtered.parquet` and outputs `dataset/objaverse/2-annotations_filtered_by_thumbnails.parquet`\n",
    "This notebook processes the thumbnails according to their current availability (HTTP 200) and selects the version with the highest resolution."
   ]
  },
  {
   "cell_type": "code",
   "execution_count": 2,
   "id": "465c2443",
   "metadata": {},
   "outputs": [
    {
     "data": {
      "text/html": [
       "<div>\n",
       "<style scoped>\n",
       "    .dataframe tbody tr th:only-of-type {\n",
       "        vertical-align: middle;\n",
       "    }\n",
       "\n",
       "    .dataframe tbody tr th {\n",
       "        vertical-align: top;\n",
       "    }\n",
       "\n",
       "    .dataframe thead th {\n",
       "        text-align: right;\n",
       "    }\n",
       "</style>\n",
       "<table border=\"1\" class=\"dataframe\">\n",
       "  <thead>\n",
       "    <tr style=\"text-align: right;\">\n",
       "      <th></th>\n",
       "      <th>thumbnails</th>\n",
       "    </tr>\n",
       "    <tr>\n",
       "      <th>uid</th>\n",
       "      <th></th>\n",
       "    </tr>\n",
       "  </thead>\n",
       "  <tbody>\n",
       "    <tr>\n",
       "      <th>94db219c315742909fee67deeeacae15</th>\n",
       "      <td>[https://media.sketchfab.com/models/94db219c31...</td>\n",
       "    </tr>\n",
       "  </tbody>\n",
       "</table>\n",
       "</div>"
      ],
      "text/plain": [
       "                                                                         thumbnails\n",
       "uid                                                                                \n",
       "94db219c315742909fee67deeeacae15  [https://media.sketchfab.com/models/94db219c31..."
      ]
     },
     "execution_count": 2,
     "metadata": {},
     "output_type": "execute_result"
    }
   ],
   "source": [
    "annotations = pd.read_parquet('../dataset/objaverse/thumbnails.parquet')\n",
    "annotations.head(1)"
   ]
  },
  {
   "cell_type": "markdown",
   "id": "7a35392c",
   "metadata": {},
   "source": [
    "## Using ThreadPoolExecutor to speed up (from 2h:15m to 3m)\n",
    "Here we select the first higher resolution thumbnail for each object, or None if no thumbnail is available."
   ]
  },
  {
   "cell_type": "code",
   "execution_count": null,
   "id": "78187752",
   "metadata": {},
   "outputs": [],
   "source": [
    "MIN_SIZE = 20_000  # bytes\n",
    "\n",
    "\n",
    "def check_thumbnails(row) -> str | None:\n",
    "    def get_size(url) -> int:\n",
    "        try:\n",
    "            response = requests.head(url, timeout=5)\n",
    "            if response.status_code == 200 and \"Content-Length\" in response.headers:\n",
    "                return int(response.headers[\"Content-Length\"])\n",
    "            return 0\n",
    "        except requests.RequestException:\n",
    "            return None\n",
    "\n",
    "    if not isinstance(row[\"thumbnails\"], np.ndarray):\n",
    "        return None\n",
    "\n",
    "    for thumbnail in row[\"thumbnails\"][::-1] if \"x\" in row[\"thumbnails\"][0][-8] else row[\"thumbnails\"]:\n",
    "        if (size := get_size(thumbnail)) is not None and size > MIN_SIZE:\n",
    "            return thumbnail\n",
    "    return None"
   ]
  },
  {
   "cell_type": "code",
   "execution_count": null,
   "id": "482117ad",
   "metadata": {},
   "outputs": [],
   "source": [
    "def parallel_apply(df, func, max_workers=8):\n",
    "    with ThreadPoolExecutor(max_workers=max_workers) as executor:\n",
    "        rows = [row for _, row in df.iterrows()]\n",
    "        results = list(tqdm(executor.map(func, rows), total=len(rows), desc='Processing'))\n",
    "    return results"
   ]
  },
  {
   "cell_type": "code",
   "execution_count": null,
   "id": "8169a131",
   "metadata": {},
   "outputs": [],
   "source": [
    "thumbnails = parallel_apply(annotations, check_thumbnails, max_workers=64)"
   ]
  },
  {
   "cell_type": "code",
   "execution_count": 68,
   "id": "89edf58e",
   "metadata": {},
   "outputs": [],
   "source": [
    "annotations['thumbnail'] = thumbnails\n",
    "annotations.drop(columns=['thumbnails'], inplace=True)"
   ]
  },
  {
   "cell_type": "code",
   "execution_count": null,
   "id": "f251672f",
   "metadata": {},
   "outputs": [],
   "source": [
    "annotations_filtered = annotations[annotations[\"thumbnail\"].notna()]\n",
    "annotations_filtered.set_index(\"uid\", inplace=True)\n",
    "annotations_filtered.to_parquet(\"../dataset/objaverse/thumbnails_checked2.parquet\", index=False)"
   ]
  },
  {
   "cell_type": "code",
   "execution_count": null,
   "id": "e71daba6",
   "metadata": {},
   "outputs": [
    {
     "data": {
      "text/html": [
       "<div>\n",
       "<style scoped>\n",
       "    .dataframe tbody tr th:only-of-type {\n",
       "        vertical-align: middle;\n",
       "    }\n",
       "\n",
       "    .dataframe tbody tr th {\n",
       "        vertical-align: top;\n",
       "    }\n",
       "\n",
       "    .dataframe thead th {\n",
       "        text-align: right;\n",
       "    }\n",
       "</style>\n",
       "<table border=\"1\" class=\"dataframe\">\n",
       "  <thead>\n",
       "    <tr style=\"text-align: right;\">\n",
       "      <th></th>\n",
       "      <th>thumbnail</th>\n",
       "    </tr>\n",
       "    <tr>\n",
       "      <th>uid</th>\n",
       "      <th></th>\n",
       "    </tr>\n",
       "  </thead>\n",
       "  <tbody>\n",
       "    <tr>\n",
       "      <th>94db219c315742909fee67deeeacae15</th>\n",
       "      <td>https://media.sketchfab.com/models/94db219c315...</td>\n",
       "    </tr>\n",
       "    <tr>\n",
       "      <th>fc1339e225b7408caec82681be2746c5</th>\n",
       "      <td>https://media.sketchfab.com/models/fc1339e225b...</td>\n",
       "    </tr>\n",
       "    <tr>\n",
       "      <th>7b56f2bdfd2845588f6bde0c5362fd0d</th>\n",
       "      <td>https://media.sketchfab.com/models/7b56f2bdfd2...</td>\n",
       "    </tr>\n",
       "    <tr>\n",
       "      <th>0712f63f7e714e0d8d1247a08ec1f7fe</th>\n",
       "      <td>https://media.sketchfab.com/models/0712f63f7e7...</td>\n",
       "    </tr>\n",
       "    <tr>\n",
       "      <th>963dca3a0a7b4d6caacab65165829470</th>\n",
       "      <td>https://media.sketchfab.com/models/963dca3a0a7...</td>\n",
       "    </tr>\n",
       "    <tr>\n",
       "      <th>...</th>\n",
       "      <td>...</td>\n",
       "    </tr>\n",
       "    <tr>\n",
       "      <th>df79117e60684785b1ea408cfa9cdbeb</th>\n",
       "      <td>https://media.sketchfab.com/models/df79117e606...</td>\n",
       "    </tr>\n",
       "    <tr>\n",
       "      <th>e18091821c7e475881e1d444a0bbbb0b</th>\n",
       "      <td>https://media.sketchfab.com/models/e18091821c7...</td>\n",
       "    </tr>\n",
       "    <tr>\n",
       "      <th>24997b2e226f4de2944f2f40846b80c8</th>\n",
       "      <td>https://media.sketchfab.com/models/24997b2e226...</td>\n",
       "    </tr>\n",
       "    <tr>\n",
       "      <th>365c21d8754b49fc9f236800a355021c</th>\n",
       "      <td>https://media.sketchfab.com/models/365c21d8754...</td>\n",
       "    </tr>\n",
       "    <tr>\n",
       "      <th>dad0c448ff9e41f7933cbe7efe5e8657</th>\n",
       "      <td>https://media.sketchfab.com/models/dad0c448ff9...</td>\n",
       "    </tr>\n",
       "  </tbody>\n",
       "</table>\n",
       "<p>730408 rows × 1 columns</p>\n",
       "</div>"
      ],
      "text/plain": [
       "                                                                          thumbnail\n",
       "uid                                                                                \n",
       "94db219c315742909fee67deeeacae15  https://media.sketchfab.com/models/94db219c315...\n",
       "fc1339e225b7408caec82681be2746c5  https://media.sketchfab.com/models/fc1339e225b...\n",
       "7b56f2bdfd2845588f6bde0c5362fd0d  https://media.sketchfab.com/models/7b56f2bdfd2...\n",
       "0712f63f7e714e0d8d1247a08ec1f7fe  https://media.sketchfab.com/models/0712f63f7e7...\n",
       "963dca3a0a7b4d6caacab65165829470  https://media.sketchfab.com/models/963dca3a0a7...\n",
       "...                                                                             ...\n",
       "df79117e60684785b1ea408cfa9cdbeb  https://media.sketchfab.com/models/df79117e606...\n",
       "e18091821c7e475881e1d444a0bbbb0b  https://media.sketchfab.com/models/e18091821c7...\n",
       "24997b2e226f4de2944f2f40846b80c8  https://media.sketchfab.com/models/24997b2e226...\n",
       "365c21d8754b49fc9f236800a355021c  https://media.sketchfab.com/models/365c21d8754...\n",
       "dad0c448ff9e41f7933cbe7efe5e8657  https://media.sketchfab.com/models/dad0c448ff9...\n",
       "\n",
       "[730408 rows x 1 columns]"
      ]
     },
     "execution_count": 39,
     "metadata": {},
     "output_type": "execute_result"
    },
    {
     "ename": "",
     "evalue": "",
     "output_type": "error",
     "traceback": [
      "\u001b[1;31mThe Kernel crashed while executing code in the current cell or a previous cell. \n",
      "\u001b[1;31mPlease review the code in the cell(s) to identify a possible cause of the failure. \n",
      "\u001b[1;31mClick <a href='https://aka.ms/vscodeJupyterKernelCrash'>here</a> for more info. \n",
      "\u001b[1;31mView Jupyter <a href='command:jupyter.viewOutput'>log</a> for further details."
     ]
    }
   ],
   "source": [
    "pd.read_parquet('../dataset/objaverse/thumbnails_checked.parquet')"
   ]
  },
  {
   "cell_type": "markdown",
   "id": "2a5ba08e",
   "metadata": {},
   "source": [
    "## Check for corrupted downloaded thumbnails"
   ]
  },
  {
   "cell_type": "code",
   "execution_count": 3,
   "id": "f98dee23",
   "metadata": {},
   "outputs": [
    {
     "name": "stderr",
     "output_type": "stream",
     "text": [
      "56586it [18:32, 50.88it/s]\n"
     ]
    }
   ],
   "source": [
    "from PIL import Image\n",
    "\n",
    "corrupted = []\n",
    "for file in tqdm((ObjaverseDataset3D.DATASET_DIR / \"render\").glob(\"*\")):\n",
    "    try:\n",
    "        Image.open(file)\n",
    "    except:\n",
    "        corrupted.append(file)"
   ]
  },
  {
   "cell_type": "code",
   "execution_count": null,
   "id": "e66b26ac",
   "metadata": {},
   "outputs": [
    {
     "name": "stdout",
     "output_type": "stream",
     "text": [
      "You have \u001b[1m\u001b[34m4\u001b[0m corrupted images\n"
     ]
    }
   ],
   "source": [
    "cprint(\"You have\", len(corrupted), \"corrupted images\")"
   ]
  }
 ],
 "metadata": {
  "kernelspec": {
   "display_name": ".venv",
   "language": "python",
   "name": "python3"
  },
  "language_info": {
   "codemirror_mode": {
    "name": "ipython",
    "version": 3
   },
   "file_extension": ".py",
   "mimetype": "text/x-python",
   "name": "python",
   "nbconvert_exporter": "python",
   "pygments_lexer": "ipython3",
   "version": "3.11.6"
  }
 },
 "nbformat": 4,
 "nbformat_minor": 5
}
