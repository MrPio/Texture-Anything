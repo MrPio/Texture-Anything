{
 "cells": [
  {
   "cell_type": "code",
   "execution_count": null,
   "id": "6253134a",
   "metadata": {},
   "outputs": [],
   "source": [
    "import sys\n",
    "from pathlib import Path\n",
    "\n",
    "sys.path.append(str(Path(\"..\").resolve()))\n",
    "from src import *"
   ]
  },
  {
   "cell_type": "markdown",
   "id": "b4e6480a",
   "metadata": {},
   "source": [
    "# Download Objaverse objects\n",
    "If `download_processes` is too high (>2) HuggingFace will throw a `HTTP Error 429: Too Many Requests` after a while."
   ]
  },
  {
   "cell_type": "code",
   "execution_count": null,
   "id": "e876f8d0",
   "metadata": {},
   "outputs": [
    {
     "name": "stdout",
     "output_type": "stream",
     "text": [
      "You have already downloaded \u001b[1m\u001b[33m480 of 72,601\u001b[0m \u001b[1m\u001b[32m(0.66%)\u001b[0m objects!\n"
     ]
    }
   ],
   "source": [
    "dataset = ObjaverseDataset3D()\n",
    "cprint(\n",
    "    \"You have already downloaded\",\n",
    "    f\"yellow:{len(dataset.paths):,} of {len(dataset.annotations):,}\",\n",
    "    f\"green:({len(dataset.paths)/len(dataset.annotations):.2%})\",\n",
    "    \"objects!\",\n",
    ")"
   ]
  },
  {
   "cell_type": "code",
   "execution_count": null,
   "id": "6be9e0e6",
   "metadata": {},
   "outputs": [],
   "source": [
    "dataset.download(processes=2)"
   ]
  }
 ],
 "metadata": {
  "kernelspec": {
   "display_name": "Python 3",
   "language": "python",
   "name": "python3"
  },
  "language_info": {
   "codemirror_mode": {
    "name": "ipython",
    "version": 3
   },
   "file_extension": ".py",
   "mimetype": "text/x-python",
   "name": "python",
   "nbconvert_exporter": "python",
   "pygments_lexer": "ipython3",
   "version": "3.10.16"
  }
 },
 "nbformat": 4,
 "nbformat_minor": 5
}
