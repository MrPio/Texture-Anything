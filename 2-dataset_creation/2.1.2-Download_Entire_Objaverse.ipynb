{
 "cells": [
  {
   "cell_type": "code",
   "execution_count": 6,
   "id": "4ddd5c5b",
   "metadata": {},
   "outputs": [],
   "source": [
    "import sys\n",
    "from pathlib import Path\n",
    "from tqdm import tqdm\n",
    "import os\n",
    "import pandas as pd\n",
    "\n",
    "sys.path.append(str(Path(\"..\").resolve()))\n",
    "from src import *"
   ]
  },
  {
   "cell_type": "markdown",
   "id": "7323bb3e",
   "metadata": {},
   "source": [
    "# Download Entire Objaverse Dataset\n",
    "Use this notebook to download the entire dataset. Might take a while.\n",
    "\n",
    "First run [`download_objaverse.sh`](download_objaverse.sh). On Leonardo HPC, what I did was:\n",
    "```bash\n",
    "sbatch sh download_objaverse.sh 000 009\n",
    "sbatch sh download_objaverse.sh 010 019\n",
    "...\n",
    "```\n",
    "Hence, in the following I'll assume you have already downloaded a good share of the dataset. The entire dataset is about 10 TiB in size.\n",
    "\n",
    "This notebook produce a dataframe of the following shape:\n",
    "|uid|path|size|\n",
    "|:--|:-:|:-:|\n",
    "|7c2df01bd3174a71a7f6260d86b140de|/home/...|12 KiB|"
   ]
  },
  {
   "cell_type": "code",
   "execution_count": 3,
   "id": "8407f555",
   "metadata": {},
   "outputs": [],
   "source": [
    "SCRATCH_DIR = os.environ[\"SCRATCH\"]\n",
    "GLB_DIRS = [\n",
    "    f\"{SCRATCH_DIR}/objaverse/glbs\",\n",
    "    f\"{SCRATCH_DIR}/glbs\",\n",
    "    f\"../dataset/objaverse/objects\",\n",
    "]"
   ]
  },
  {
   "cell_type": "code",
   "execution_count": 13,
   "id": "fc7ff1a1",
   "metadata": {},
   "outputs": [
    {
     "name": "stderr",
     "output_type": "stream",
     "text": [
      "100%|██████████| 798759/798759 [02:02<00:00, 6498.68it/s]\n",
      "100%|██████████| 42979/42979 [00:06<00:00, 6248.47it/s]\n",
      "100%|██████████| 72601/72601 [00:12<00:00, 5910.56it/s]\n"
     ]
    }
   ],
   "source": [
    "# 6500it/s\n",
    "MIN_SIZE = 4_096  # Discard git lfs pointers\n",
    "\n",
    "glbs = {}\n",
    "for dir in GLB_DIRS:\n",
    "    dir = Path(dir).resolve()\n",
    "    for glb in tqdm(list(dir.rglob(\"*.glb\"))):\n",
    "        if glb.stat().st_size > MIN_SIZE:\n",
    "            glbs[glb.stem] = (str(glb), glb.stat().st_size)"
   ]
  },
  {
   "cell_type": "code",
   "execution_count": 14,
   "id": "3bb1215c",
   "metadata": {},
   "outputs": [
    {
     "name": "stdout",
     "output_type": "stream",
     "text": [
      "You have a total of \u001b[1m\u001b[34m289,942 GLBs\u001b[0m totalling \u001b[1m\u001b[31m2.49 TiB\u001b[0m\n"
     ]
    }
   ],
   "source": [
    "cprint(\n",
    "   \"You have a total of\",\n",
    "   f\"blue:{len(glbs):,} GLBs\",\n",
    "   \"totalling\",\n",
    "   f\"red:{sum(x[1]for x in glbs.values())/2**40:.2f} TiB\"\n",
    ")"
   ]
  },
  {
   "cell_type": "code",
   "execution_count": 24,
   "id": "2b1afaab",
   "metadata": {},
   "outputs": [],
   "source": [
    "df = pd.DataFrame.from_dict(glbs, orient=\"index\", columns=[\"path\", \"size\"])\n",
    "df.index.name = \"uid\"\n",
    "df.to_parquet(ObjaverseDataset3D.DATASET_DIR / \"objaverse_glbs.parquet\")"
   ]
  },
  {
   "cell_type": "code",
   "execution_count": 21,
   "id": "0f2e2b2e",
   "metadata": {},
   "outputs": [
    {
     "data": {
      "text/html": [
       "<div>\n",
       "<style scoped>\n",
       "    .dataframe tbody tr th:only-of-type {\n",
       "        vertical-align: middle;\n",
       "    }\n",
       "\n",
       "    .dataframe tbody tr th {\n",
       "        vertical-align: top;\n",
       "    }\n",
       "\n",
       "    .dataframe thead th {\n",
       "        text-align: right;\n",
       "    }\n",
       "</style>\n",
       "<table border=\"1\" class=\"dataframe\">\n",
       "  <thead>\n",
       "    <tr style=\"text-align: right;\">\n",
       "      <th></th>\n",
       "      <th>path</th>\n",
       "      <th>size</th>\n",
       "    </tr>\n",
       "    <tr>\n",
       "      <th>uid</th>\n",
       "      <th></th>\n",
       "      <th></th>\n",
       "    </tr>\n",
       "  </thead>\n",
       "  <tbody>\n",
       "    <tr>\n",
       "      <th>7c2df01bd3174a71a7f6260d86b140de</th>\n",
       "      <td>/leonardo_scratch/large/userexternal/vmorelli/...</td>\n",
       "      <td>5843000</td>\n",
       "    </tr>\n",
       "    <tr>\n",
       "      <th>b7381a0363224c359542c9b712d062f8</th>\n",
       "      <td>/leonardo_scratch/large/userexternal/vmorelli/...</td>\n",
       "      <td>146288</td>\n",
       "    </tr>\n",
       "    <tr>\n",
       "      <th>b74934f4600741b291f57dfb2aa72ec7</th>\n",
       "      <td>/leonardo_scratch/large/userexternal/vmorelli/...</td>\n",
       "      <td>1053828</td>\n",
       "    </tr>\n",
       "    <tr>\n",
       "      <th>2679aacf1de9414fb4efd4e01757cc92</th>\n",
       "      <td>/leonardo_scratch/fast/IscrC_MACRO/Texture-Any...</td>\n",
       "      <td>8804</td>\n",
       "    </tr>\n",
       "    <tr>\n",
       "      <th>372ece96a80e448ca54978fb6b06c4ee</th>\n",
       "      <td>/leonardo_scratch/large/userexternal/vmorelli/...</td>\n",
       "      <td>2104196</td>\n",
       "    </tr>\n",
       "  </tbody>\n",
       "</table>\n",
       "</div>"
      ],
      "text/plain": [
       "                                                                               path  \\\n",
       "uid                                                                                   \n",
       "7c2df01bd3174a71a7f6260d86b140de  /leonardo_scratch/large/userexternal/vmorelli/...   \n",
       "b7381a0363224c359542c9b712d062f8  /leonardo_scratch/large/userexternal/vmorelli/...   \n",
       "b74934f4600741b291f57dfb2aa72ec7  /leonardo_scratch/large/userexternal/vmorelli/...   \n",
       "2679aacf1de9414fb4efd4e01757cc92  /leonardo_scratch/fast/IscrC_MACRO/Texture-Any...   \n",
       "372ece96a80e448ca54978fb6b06c4ee  /leonardo_scratch/large/userexternal/vmorelli/...   \n",
       "\n",
       "                                     size  \n",
       "uid                                        \n",
       "7c2df01bd3174a71a7f6260d86b140de  5843000  \n",
       "b7381a0363224c359542c9b712d062f8   146288  \n",
       "b74934f4600741b291f57dfb2aa72ec7  1053828  \n",
       "2679aacf1de9414fb4efd4e01757cc92     8804  \n",
       "372ece96a80e448ca54978fb6b06c4ee  2104196  "
      ]
     },
     "execution_count": 21,
     "metadata": {},
     "output_type": "execute_result"
    }
   ],
   "source": [
    "df.head()"
   ]
  }
 ],
 "metadata": {
  "kernelspec": {
   "display_name": ".venv",
   "language": "python",
   "name": "python3"
  },
  "language_info": {
   "codemirror_mode": {
    "name": "ipython",
    "version": 3
   },
   "file_extension": ".py",
   "mimetype": "text/x-python",
   "name": "python",
   "nbconvert_exporter": "python",
   "pygments_lexer": "ipython3",
   "version": "3.11.6"
  }
 },
 "nbformat": 4,
 "nbformat_minor": 5
}
