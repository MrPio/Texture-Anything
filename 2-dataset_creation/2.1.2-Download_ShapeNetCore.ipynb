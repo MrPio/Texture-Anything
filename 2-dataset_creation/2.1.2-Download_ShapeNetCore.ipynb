{
 "cells": [
  {
   "cell_type": "code",
   "execution_count": 1,
   "id": "19f724a5",
   "metadata": {},
   "outputs": [],
   "source": [
    "import sys\n",
    "from pathlib import Path\n",
    "from dotenv import load_dotenv\n",
    "\n",
    "sys.path.append(str(Path(\"..\").resolve()))\n",
    "from src import *"
   ]
  },
  {
   "cell_type": "markdown",
   "id": "5ec940b6",
   "metadata": {},
   "source": [
    "# Download ShapeNetCore dataset\n",
    "##### ℹ️ This notebook requires a valid `HF_TOKEN` [Hugging Face token](https://huggingface.co/settings/tokens) in the `.env` file\n",
    "This notebook downloads the entire ShapeNetCore dataset from Huggingface. Since it's a restricted dataset, you need to request access and then generate a token from your account settings."
   ]
  },
  {
   "cell_type": "code",
   "execution_count": 2,
   "id": "dc7c9693",
   "metadata": {},
   "outputs": [
    {
     "data": {
      "text/plain": [
       "True"
      ]
     },
     "execution_count": 2,
     "metadata": {},
     "output_type": "execute_result"
    }
   ],
   "source": [
    "load_dotenv()"
   ]
  },
  {
   "cell_type": "code",
   "execution_count": 3,
   "id": "06eadf56",
   "metadata": {},
   "outputs": [
    {
     "name": "stderr",
     "output_type": "stream",
     "text": [
      "1it [00:00, 1608.25it/s]"
     ]
    },
    {
     "name": "stdout",
     "output_type": "stream",
     "text": [
      "You have downloaded a total of \u001b[1m\u001b[34m73\u001b[0m objects!\n"
     ]
    },
    {
     "name": "stderr",
     "output_type": "stream",
     "text": [
      "\n"
     ]
    }
   ],
   "source": [
    "dataset = ShapeNetCoreDataset3D()\n",
    "cprint(\"You have downloaded a total of\", f\"blue:{len(dataset.paths)}\", \"objects!\")"
   ]
  },
  {
   "cell_type": "code",
   "execution_count": null,
   "id": "c6eb475b",
   "metadata": {},
   "outputs": [],
   "source": [
    "dataset.download(first=1, fresh=True)"
   ]
  }
 ],
 "metadata": {
  "kernelspec": {
   "display_name": "Python 3",
   "language": "python",
   "name": "python3"
  },
  "language_info": {
   "codemirror_mode": {
    "name": "ipython",
    "version": 3
   },
   "file_extension": ".py",
   "mimetype": "text/x-python",
   "name": "python",
   "nbconvert_exporter": "python",
   "pygments_lexer": "ipython3",
   "version": "3.10.16"
  }
 },
 "nbformat": 4,
 "nbformat_minor": 5
}
