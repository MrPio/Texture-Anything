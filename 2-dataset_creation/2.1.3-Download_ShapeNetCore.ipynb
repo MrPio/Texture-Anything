{
 "cells": [
  {
   "cell_type": "code",
   "execution_count": 5,
   "id": "19f724a5",
   "metadata": {},
   "outputs": [],
   "source": [
    "import sys\n",
    "from pathlib import Path\n",
    "from dotenv import load_dotenv\n",
    "\n",
    "sys.path.append(str(Path(\"..\").resolve()))\n",
    "from src import *"
   ]
  },
  {
   "cell_type": "markdown",
   "id": "5ec940b6",
   "metadata": {},
   "source": [
    "# Download ShapeNetCore dataset\n",
    "##### ℹ️ This notebook requires a valid `HF_TOKEN` [Hugging Face token](https://huggingface.co/settings/tokens) in the `.env` file\n",
    "This notebook downloads the entire ShapeNetCore dataset from Huggingface. Since it's a restricted dataset, you need to request access and then generate a token from your account settings."
   ]
  },
  {
   "cell_type": "code",
   "execution_count": 6,
   "id": "dc7c9693",
   "metadata": {},
   "outputs": [
    {
     "data": {
      "text/plain": [
       "True"
      ]
     },
     "execution_count": 6,
     "metadata": {},
     "output_type": "execute_result"
    }
   ],
   "source": [
    "load_dotenv()"
   ]
  },
  {
   "cell_type": "code",
   "execution_count": 7,
   "id": "06eadf56",
   "metadata": {},
   "outputs": [
    {
     "name": "stderr",
     "output_type": "stream",
     "text": [
      "55it [00:00, 283.22it/s]"
     ]
    },
    {
     "name": "stdout",
     "output_type": "stream",
     "text": [
      "You have downloaded a total of \u001b[1m\u001b[34m48236\u001b[0m objects!\n"
     ]
    },
    {
     "name": "stderr",
     "output_type": "stream",
     "text": [
      "\n"
     ]
    }
   ],
   "source": [
    "dataset = ShapeNetCoreDataset3D()\n",
    "cprint(\"You have downloaded a total of\", f\"blue:{len(dataset.paths)}\", \"objects!\")"
   ]
  },
  {
   "cell_type": "code",
   "execution_count": null,
   "id": "c6eb475b",
   "metadata": {},
   "outputs": [],
   "source": [
    "dataset.download(first=-1, fresh=False, convert_to_glb=False)"
   ]
  },
  {
   "cell_type": "code",
   "execution_count": 8,
   "id": "97ad33c7",
   "metadata": {},
   "outputs": [
    {
     "name": "stdout",
     "output_type": "stream",
     "text": [
      "0 / 55\n"
     ]
    },
    {
     "name": "stderr",
     "output_type": "stream",
     "text": [
      "Converting OBJ to GLB:  14%|█▍        | 487/3514 [00:40<07:46,  6.49it/s]  "
     ]
    },
    {
     "ename": "",
     "evalue": "",
     "output_type": "error",
     "traceback": [
      "\u001b[1;31mThe Kernel crashed while executing code in the current cell or a previous cell. \n",
      "\u001b[1;31mPlease review the code in the cell(s) to identify a possible cause of the failure. \n",
      "\u001b[1;31mClick <a href='https://aka.ms/vscodeJupyterKernelCrash'>here</a> for more info. \n",
      "\u001b[1;31mView Jupyter <a href='command:jupyter.viewOutput'>log</a> for further details."
     ]
    }
   ],
   "source": [
    "from tqdm import tqdm\n",
    "import trimesh\n",
    "\n",
    "objects_dir = dataset.DATASET_DIR / \"objects\"\n",
    "categories=dataset.CATEGORIES\n",
    "for i, cat in enumerate(categories):\n",
    "    print(i, \"/\", len(categories))\n",
    "    for obj_path in tqdm(list((objects_dir / cat).rglob(\"*.obj\")), desc=\"Converting OBJ to GLB\"):\n",
    "        glb_path = Path(str(obj_path).replace(\".obj\", \".glb\"))\n",
    "        if not glb_path.exists():\n",
    "            trimesh.load(obj_path).export(str(glb_path), file_type=\"glb\")"
   ]
  }
 ],
 "metadata": {
  "kernelspec": {
   "display_name": ".venv",
   "language": "python",
   "name": "python3"
  },
  "language_info": {
   "codemirror_mode": {
    "name": "ipython",
    "version": 3
   },
   "file_extension": ".py",
   "mimetype": "text/x-python",
   "name": "python",
   "nbconvert_exporter": "python",
   "pygments_lexer": "ipython3",
   "version": "3.11.6"
  }
 },
 "nbformat": 4,
 "nbformat_minor": 5
}
