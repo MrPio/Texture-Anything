{
 "cells": [
  {
   "cell_type": "code",
   "execution_count": 1,
   "id": "6253134a",
   "metadata": {},
   "outputs": [],
   "source": [
    "import objaverse\n",
    "import pandas as pd\n",
    "import os\n",
    "objaverse._VERSIONED_PATH=os.path.join('../.objaverse', \"hf-objaverse-v1\")"
   ]
  },
  {
   "cell_type": "code",
   "execution_count": 7,
   "id": "2f66e910",
   "metadata": {},
   "outputs": [
    {
     "data": {
      "text/plain": [
       "0"
      ]
     },
     "execution_count": 7,
     "metadata": {},
     "output_type": "execute_result"
    }
   ],
   "source": [
    "from pathlib import Path\n",
    "\n",
    "\n",
    "len(list(Path(os.path.join('../.objaverse', \"hf-objaverse-v1\")).glob(\"*.glb\")))"
   ]
  },
  {
   "cell_type": "markdown",
   "id": "b4e6480a",
   "metadata": {},
   "source": [
    "# Download Objaverse objects\n",
    "If `download_processes` is too high (>2) HuggingFace will throw a `HTTP Error 429: Too Many Requests` after a while."
   ]
  },
  {
   "cell_type": "code",
   "execution_count": 3,
   "id": "e876f8d0",
   "metadata": {},
   "outputs": [],
   "source": [
    "annotations = pd.read_parquet('../data/2-annotations_filtered_by_thumbnails.parquet')"
   ]
  },
  {
   "cell_type": "code",
   "execution_count": null,
   "id": "6be9e0e6",
   "metadata": {},
   "outputs": [],
   "source": [
    "objaverse.load_objects(annotations.index.to_list(), download_processes=1)"
   ]
  }
 ],
 "metadata": {
  "kernelspec": {
   "display_name": ".venv",
   "language": "python",
   "name": "python3"
  },
  "language_info": {
   "codemirror_mode": {
    "name": "ipython",
    "version": 3
   },
   "file_extension": ".py",
   "mimetype": "text/x-python",
   "name": "python",
   "nbconvert_exporter": "python",
   "pygments_lexer": "ipython3",
   "version": "3.11.6"
  }
 },
 "nbformat": 4,
 "nbformat_minor": 5
}
