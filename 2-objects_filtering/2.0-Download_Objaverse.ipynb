{
 "cells": [
  {
   "cell_type": "code",
   "execution_count": 2,
   "id": "6253134a",
   "metadata": {},
   "outputs": [],
   "source": [
    "import sys\n",
    "from pathlib import Path\n",
    "from termcolor import colored\n",
    "\n",
    "sys.path.append(str(Path(\"..\").resolve()))\n",
    "from src import *"
   ]
  },
  {
   "cell_type": "markdown",
   "id": "b4e6480a",
   "metadata": {},
   "source": [
    "# Download Objaverse objects\n",
    "If `download_processes` is too high (>2) HuggingFace will throw a `HTTP Error 429: Too Many Requests` after a while."
   ]
  },
  {
   "cell_type": "code",
   "execution_count": 3,
   "id": "e876f8d0",
   "metadata": {},
   "outputs": [
    {
     "name": "stdout",
     "output_type": "stream",
     "text": [
      "You have already downloaded \u001b[1m\u001b[33m46,397 of 72,601\u001b[0m \u001b[1m\u001b[32m(63.91%)\u001b[0m objects!\n"
     ]
    }
   ],
   "source": [
    "dataset = ObjaverseDataset3D()\n",
    "print(\n",
    "    f\"You have already downloaded\",\n",
    "    colored(f\"{len(dataset.paths):,} of {len(dataset.annotations):,}\", \"yellow\", attrs=[\"bold\"]),\n",
    "    colored(f\"({len(dataset.paths)/len(dataset.annotations):.2%})\", \"green\", attrs=[\"bold\"]),\n",
    "    \"objects!\",\n",
    ")"
   ]
  },
  {
   "cell_type": "code",
   "execution_count": null,
   "id": "6be9e0e6",
   "metadata": {},
   "outputs": [
    {
     "name": "stdout",
     "output_type": "stream",
     "text": [
      "starting download of 26194 objects with 2 processes\n"
     ]
    },
    {
     "name": "stderr",
     "output_type": "stream",
     "text": [
      "Downloading:   0%|          | 12/26194 [00:04<3:05:10,  2.36it/s]"
     ]
    }
   ],
   "source": [
    "objaverse.load_objects(dataset.annotations.index.to_list(), download_processes=2)"
   ]
  }
 ],
 "metadata": {
  "kernelspec": {
   "display_name": ".venv",
   "language": "python",
   "name": "python3"
  },
  "language_info": {
   "codemirror_mode": {
    "name": "ipython",
    "version": 3
   },
   "file_extension": ".py",
   "mimetype": "text/x-python",
   "name": "python",
   "nbconvert_exporter": "python",
   "pygments_lexer": "ipython3",
   "version": "3.11.6"
  }
 },
 "nbformat": 4,
 "nbformat_minor": 5
}
