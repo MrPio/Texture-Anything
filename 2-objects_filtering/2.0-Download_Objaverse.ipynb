{
 "cells": [
  {
   "cell_type": "code",
   "execution_count": 15,
   "id": "6253134a",
   "metadata": {},
   "outputs": [],
   "source": [
    "import sys\n",
    "from pathlib import Path\n",
    "from termcolor import colored\n",
    "\n",
    "sys.path.append(str(Path(\"..\").resolve()))\n",
    "from src import *"
   ]
  },
  {
   "cell_type": "markdown",
   "id": "b4e6480a",
   "metadata": {},
   "source": [
    "# Download Objaverse objects\n",
    "If `download_processes` is too high (>2) HuggingFace will throw a `HTTP Error 429: Too Many Requests` after a while."
   ]
  },
  {
   "cell_type": "code",
   "execution_count": 16,
   "id": "e876f8d0",
   "metadata": {},
   "outputs": [
    {
     "name": "stdout",
     "output_type": "stream",
     "text": [
      "You have already downloaded \u001b[1m\u001b[33m72,601 of 72,601\u001b[0m \u001b[1m\u001b[32m(100.00%)\u001b[0m objects!\n"
     ]
    }
   ],
   "source": [
    "dataset = ObjaverseDataset3D()\n",
    "print(\n",
    "    f\"You have already downloaded\",\n",
    "    colored(f\"{len(dataset.paths):,} of {len(dataset.annotations):,}\", \"yellow\", attrs=[\"bold\"]),\n",
    "    colored(f\"({len(dataset.paths)/len(dataset.annotations):.2%})\", \"green\", attrs=[\"bold\"]),\n",
    "    \"objects!\",\n",
    ")"
   ]
  },
  {
   "cell_type": "code",
   "execution_count": null,
   "id": "6be9e0e6",
   "metadata": {},
   "outputs": [],
   "source": [
    "objaverse.load_objects(dataset.annotations.index.to_list(), download_processes=2)"
   ]
  },
  {
   "cell_type": "code",
   "execution_count": 17,
   "id": "028b3465",
   "metadata": {},
   "outputs": [
    {
     "data": {
      "text/html": [
       "<div>\n",
       "<style scoped>\n",
       "    .dataframe tbody tr th:only-of-type {\n",
       "        vertical-align: middle;\n",
       "    }\n",
       "\n",
       "    .dataframe tbody tr th {\n",
       "        vertical-align: top;\n",
       "    }\n",
       "\n",
       "    .dataframe thead th {\n",
       "        text-align: right;\n",
       "    }\n",
       "</style>\n",
       "<table border=\"1\" class=\"dataframe\">\n",
       "  <thead>\n",
       "    <tr style=\"text-align: right;\">\n",
       "      <th></th>\n",
       "      <th>meshCount</th>\n",
       "      <th>uvCount</th>\n",
       "      <th>diffuseCount</th>\n",
       "      <th>valid</th>\n",
       "    </tr>\n",
       "    <tr>\n",
       "      <th>uid</th>\n",
       "      <th></th>\n",
       "      <th></th>\n",
       "      <th></th>\n",
       "      <th></th>\n",
       "    </tr>\n",
       "  </thead>\n",
       "  <tbody>\n",
       "    <tr>\n",
       "      <th>fcdfc931f73b4865a4a4005c65fc2afe</th>\n",
       "      <td>1.0</td>\n",
       "      <td>1</td>\n",
       "      <td>0</td>\n",
       "      <td>False</td>\n",
       "    </tr>\n",
       "    <tr>\n",
       "      <th>2dc0552b029245d899a35ec3bf58256b</th>\n",
       "      <td>2.0</td>\n",
       "      <td>&lt;NA&gt;</td>\n",
       "      <td>&lt;NA&gt;</td>\n",
       "      <td>&lt;NA&gt;</td>\n",
       "    </tr>\n",
       "    <tr>\n",
       "      <th>0ec69f6a8e0f48e5876710cfe81643fa</th>\n",
       "      <td>1.0</td>\n",
       "      <td>1</td>\n",
       "      <td>1</td>\n",
       "      <td>True</td>\n",
       "    </tr>\n",
       "    <tr>\n",
       "      <th>3788555afb0944dc8aceb4674764a3dc</th>\n",
       "      <td>2.0</td>\n",
       "      <td>&lt;NA&gt;</td>\n",
       "      <td>&lt;NA&gt;</td>\n",
       "      <td>&lt;NA&gt;</td>\n",
       "    </tr>\n",
       "    <tr>\n",
       "      <th>5efbfe21204743559165377a163896c3</th>\n",
       "      <td>4.0</td>\n",
       "      <td>&lt;NA&gt;</td>\n",
       "      <td>&lt;NA&gt;</td>\n",
       "      <td>&lt;NA&gt;</td>\n",
       "    </tr>\n",
       "    <tr>\n",
       "      <th>...</th>\n",
       "      <td>...</td>\n",
       "      <td>...</td>\n",
       "      <td>...</td>\n",
       "      <td>...</td>\n",
       "    </tr>\n",
       "    <tr>\n",
       "      <th>efa6032f252c45d5a41cc570d64adc80</th>\n",
       "      <td>1.0</td>\n",
       "      <td>1</td>\n",
       "      <td>1</td>\n",
       "      <td>True</td>\n",
       "    </tr>\n",
       "    <tr>\n",
       "      <th>207ff50d3ab84fa781dd297927eb1d7a</th>\n",
       "      <td>4.0</td>\n",
       "      <td>&lt;NA&gt;</td>\n",
       "      <td>&lt;NA&gt;</td>\n",
       "      <td>&lt;NA&gt;</td>\n",
       "    </tr>\n",
       "    <tr>\n",
       "      <th>eb3c0b59a8a5490bacb9e94718310277</th>\n",
       "      <td>70.0</td>\n",
       "      <td>&lt;NA&gt;</td>\n",
       "      <td>&lt;NA&gt;</td>\n",
       "      <td>&lt;NA&gt;</td>\n",
       "    </tr>\n",
       "    <tr>\n",
       "      <th>12e2524967704ed287d2c3b73605e761</th>\n",
       "      <td>1.0</td>\n",
       "      <td>0</td>\n",
       "      <td>0</td>\n",
       "      <td>False</td>\n",
       "    </tr>\n",
       "    <tr>\n",
       "      <th>695fce9626164a24bbf34f740ad05b54</th>\n",
       "      <td>1.0</td>\n",
       "      <td>1</td>\n",
       "      <td>0</td>\n",
       "      <td>False</td>\n",
       "    </tr>\n",
       "  </tbody>\n",
       "</table>\n",
       "<p>45000 rows × 4 columns</p>\n",
       "</div>"
      ],
      "text/plain": [
       "                                  meshCount  uvCount  diffuseCount  valid\n",
       "uid                                                                      \n",
       "fcdfc931f73b4865a4a4005c65fc2afe        1.0        1             0  False\n",
       "2dc0552b029245d899a35ec3bf58256b        2.0     <NA>          <NA>   <NA>\n",
       "0ec69f6a8e0f48e5876710cfe81643fa        1.0        1             1   True\n",
       "3788555afb0944dc8aceb4674764a3dc        2.0     <NA>          <NA>   <NA>\n",
       "5efbfe21204743559165377a163896c3        4.0     <NA>          <NA>   <NA>\n",
       "...                                     ...      ...           ...    ...\n",
       "efa6032f252c45d5a41cc570d64adc80        1.0        1             1   True\n",
       "207ff50d3ab84fa781dd297927eb1d7a        4.0     <NA>          <NA>   <NA>\n",
       "eb3c0b59a8a5490bacb9e94718310277       70.0     <NA>          <NA>   <NA>\n",
       "12e2524967704ed287d2c3b73605e761        1.0        0             0  False\n",
       "695fce9626164a24bbf34f740ad05b54        1.0        1             0  False\n",
       "\n",
       "[45000 rows x 4 columns]"
      ]
     },
     "execution_count": 17,
     "metadata": {},
     "output_type": "execute_result"
    }
   ],
   "source": [
    "dataset.statistics"
   ]
  }
 ],
 "metadata": {
  "kernelspec": {
   "display_name": ".venv",
   "language": "python",
   "name": "python3"
  },
  "language_info": {
   "codemirror_mode": {
    "name": "ipython",
    "version": 3
   },
   "file_extension": ".py",
   "mimetype": "text/x-python",
   "name": "python",
   "nbconvert_exporter": "python",
   "pygments_lexer": "ipython3",
   "version": "3.11.6"
  }
 },
 "nbformat": 4,
 "nbformat_minor": 5
}
