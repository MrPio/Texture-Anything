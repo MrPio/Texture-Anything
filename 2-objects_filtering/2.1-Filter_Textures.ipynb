{
 "cells": [
  {
   "cell_type": "code",
   "execution_count": 1,
   "id": "bdd8cfa4",
   "metadata": {},
   "outputs": [],
   "source": [
    "%load_ext autoreload\n",
    "import pandas as pd\n",
    "import pickle\n",
    "import os\n",
    "from random import sample\n",
    "from tqdm import tqdm\n",
    "import seaborn as sns\n",
    "import matplotlib.pyplot as plt\n",
    "import os\n",
    "%autoreload 2\n",
    "import objaverse\n",
    "import objaverse.xl as xl\n",
    "import bpy\n",
    "\n",
    "objaverse._VERSIONED_PATH=os.path.join('../.objaverse', \"hf-objaverse-v1\")\n",
    "sns.set_style(\"darkgrid\")\n",
    "sns.set_context(\"notebook\", font_scale=1.15)"
   ]
  },
  {
   "cell_type": "markdown",
   "id": "73ce114c",
   "metadata": {},
   "source": [
    "# Filter only objects having one diffusion texture\n",
    "##### ℹ️ This notebook requires `data/2-annotations_filtered_by_thumbnails.parquet`\n",
    "This notebook downloads all the filtered objects and filter them based on the the textures they have."
   ]
  },
  {
   "cell_type": "code",
   "execution_count": 2,
   "id": "df927244",
   "metadata": {},
   "outputs": [],
   "source": [
    "annotations = pd.read_parquet('../data/2-annotations_filtered_by_thumbnails.parquet')"
   ]
  },
  {
   "cell_type": "markdown",
   "id": "a8bdad2b",
   "metadata": {},
   "source": [
    "## Download the whole filtered dataset\n",
    "This gonna take a while..."
   ]
  },
  {
   "cell_type": "code",
   "execution_count": 7,
   "id": "201e916f",
   "metadata": {},
   "outputs": [],
   "source": [
    "paths = objaverse.load_objects(\n",
    "    annotations['uid'][:25000].to_list(), download_processes=256)"
   ]
  },
  {
   "cell_type": "code",
   "execution_count": null,
   "id": "2f277d8c",
   "metadata": {},
   "outputs": [],
   "source": [
    "def count_uv_maps(glb_object_name):\n",
    "    obj = bpy.data.objects.get(glb_object_name)\n",
    "    if not obj:\n",
    "        raise ValueError(f\"Object '{glb_object_name}' not found in the scene.\")\n",
    "    \n",
    "    if obj.type != 'MESH':\n",
    "        raise TypeError(f\"Object '{glb_object_name}' is not a mesh.\")\n",
    "\n",
    "    mesh_data = obj.data\n",
    "    uv_maps = mesh_data.uv_layers\n",
    "\n",
    "    print(f\"Object '{glb_object_name}' has {len(uv_maps)} UV map(s).\")\n",
    "    return len(uv_maps)"
   ]
  },
  {
   "cell_type": "code",
   "execution_count": null,
   "id": "a52f7332",
   "metadata": {},
   "outputs": [],
   "source": [
    "def count_diffuse_textures(obj_name):\n",
    "    obj = bpy.data.objects.get(obj_name)\n",
    "    if not obj or obj.type != 'MESH':\n",
    "        raise ValueError(\"Object not found or is not a mesh.\")\n",
    "\n",
    "    diffuse_texture_count = 0\n",
    "\n",
    "    for slot in obj.material_slots:\n",
    "        mat = slot.material\n",
    "        if mat and mat.use_nodes:\n",
    "            for node in mat.node_tree.nodes:\n",
    "                if node.type == 'TEX_IMAGE':\n",
    "                    # Look for connection to 'Base Color'\n",
    "                    for output in node.outputs:\n",
    "                        for link in output.links:\n",
    "                            if link.to_socket.name == 'Base Color':\n",
    "                                diffuse_texture_count += 1\n",
    "    print(f\"Object '{obj_name}' has {diffuse_texture_count} diffuse texture(s).\")\n",
    "    return diffuse_texture_count\n"
   ]
  }
 ],
 "metadata": {
  "kernelspec": {
   "display_name": ".venv",
   "language": "python",
   "name": "python3"
  },
  "language_info": {
   "codemirror_mode": {
    "name": "ipython",
    "version": 3
   },
   "file_extension": ".py",
   "mimetype": "text/x-python",
   "name": "python",
   "nbconvert_exporter": "python",
   "pygments_lexer": "ipython3",
   "version": "3.11.6"
  }
 },
 "nbformat": 4,
 "nbformat_minor": 5
}
