{
 "cells": [
  {
   "cell_type": "code",
   "execution_count": null,
   "id": "19f724a5",
   "metadata": {},
   "outputs": [],
   "source": [
    "import sys\n",
    "from pathlib import Path\n",
    "from huggingface_hub import login\n",
    "from dotenv import load_dotenv\n",
    "\n",
    "sys.path.append(str(Path(\"..\").resolve()))\n",
    "from src import *"
   ]
  },
  {
   "cell_type": "markdown",
   "id": "5ec940b6",
   "metadata": {},
   "source": [
    "# Download ShapeNetCore dataset\n",
    "##### ℹ️ This notebook requires a valid `HF_TOKEN` [Hugging Face token](https://huggingface.co/settings/tokens) in the `.env` file\n",
    "This notebook downloads the entire ShapeNetCore dataset from Huggingface. Since it's a restricted dataset, you need to request access and then generate a token from your account settings."
   ]
  },
  {
   "cell_type": "code",
   "execution_count": null,
   "id": "dc7c9693",
   "metadata": {},
   "outputs": [
    {
     "name": "stderr",
     "output_type": "stream",
     "text": [
      "Note: Environment variable`HF_TOKEN` is set and is the current active token independently from the token you've just configured.\n"
     ]
    },
    {
     "data": {
      "text/html": [
       "<pre style=\"white-space:pre;overflow-x:auto;line-height:normal;font-family:Menlo,'DejaVu Sans Mono',consolas,'Courier New',monospace\"><span style=\"color: #7fbfbf; text-decoration-color: #7fbfbf\">[05/16/25 16:04:15] </span><span style=\"color: #808000; text-decoration-color: #808000\">WARNING </span> Note: Environment variable`HF_TOKEN` is set and is the current active token           \n",
       "<span style=\"color: #7fbfbf; text-decoration-color: #7fbfbf\">                    </span>         independently from the token you've just configured.                                  \n",
       "</pre>\n"
      ],
      "text/plain": [
       "\u001b[2;36m[05/16/25 16:04:15]\u001b[0m\u001b[2;36m \u001b[0m\u001b[33mWARNING \u001b[0m Note: Environment variable`HF_TOKEN` is set and is the current active token           \n",
       "\u001b[2;36m                    \u001b[0m         independently from the token you've just configured.                                  \n"
      ]
     },
     "metadata": {},
     "output_type": "display_data"
    }
   ],
   "source": [
    "load_dotenv()"
   ]
  },
  {
   "cell_type": "code",
   "execution_count": null,
   "id": "06eadf56",
   "metadata": {},
   "outputs": [],
   "source": [
    "dataset = ShapeNetCoreDataset3D()\n",
    "dataset.download(first=4)"
   ]
  },
  {
   "cell_type": "code",
   "execution_count": 4,
   "id": "f2048298",
   "metadata": {},
   "outputs": [
    {
     "name": "stderr",
     "output_type": "stream",
     "text": [
      "0it [00:00, ?it/s]"
     ]
    },
    {
     "name": "stderr",
     "output_type": "stream",
     "text": [
      "4it [00:00, 3055.40it/s]\n"
     ]
    },
    {
     "data": {
      "text/html": [
       "<pre style=\"white-space:pre;overflow-x:auto;line-height:normal;font-family:Menlo,'DejaVu Sans Mono',consolas,'Courier New',monospace\"><span style=\"color: #7fbfbf; text-decoration-color: #7fbfbf\">[05/16/25 16:55:52] </span><span style=\"color: #000080; text-decoration-color: #000080\">INFO    </span> You have downloaded a total of <span style=\"color: #008080; text-decoration-color: #008080; font-weight: bold\">326</span> objects!.                                          \n",
       "</pre>\n"
      ],
      "text/plain": [
       "\u001b[2;36m[05/16/25 16:55:52]\u001b[0m\u001b[2;36m \u001b[0m\u001b[34mINFO    \u001b[0m You have downloaded a total of \u001b[1;36m326\u001b[0m objects!.                                          \n"
      ]
     },
     "metadata": {},
     "output_type": "display_data"
    }
   ],
   "source": [
    "log(\"You have downloaded a total of\", f\"blue:{len(dataset.paths)}\", \"objects!\")"
   ]
  }
 ],
 "metadata": {
  "kernelspec": {
   "display_name": "Python 3",
   "language": "python",
   "name": "python3"
  },
  "language_info": {
   "codemirror_mode": {
    "name": "ipython",
    "version": 3
   },
   "file_extension": ".py",
   "mimetype": "text/x-python",
   "name": "python",
   "nbconvert_exporter": "python",
   "pygments_lexer": "ipython3",
   "version": "3.10.16"
  }
 },
 "nbformat": 4,
 "nbformat_minor": 5
}
