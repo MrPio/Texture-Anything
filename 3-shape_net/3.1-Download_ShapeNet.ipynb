{
 "cells": [
  {
   "cell_type": "code",
   "execution_count": 18,
   "id": "19f724a5",
   "metadata": {},
   "outputs": [
    {
     "name": "stdout",
     "output_type": "stream",
     "text": [
      "The autoreload extension is already loaded. To reload it, use:\n",
      "  %reload_ext autoreload\n"
     ]
    }
   ],
   "source": [
    "%load_ext autoreload\n",
    "%autoreload 2\n",
    "import sys\n",
    "from pathlib import Path\n",
    "from dotenv import load_dotenv\n",
    "\n",
    "sys.path.append(str(Path(\"..\").resolve()))\n",
    "from src import *"
   ]
  },
  {
   "cell_type": "markdown",
   "id": "5ec940b6",
   "metadata": {},
   "source": [
    "# Download ShapeNetCore dataset\n",
    "##### ℹ️ This notebook requires a valid `HF_TOKEN` [Hugging Face token](https://huggingface.co/settings/tokens) in the `.env` file\n",
    "This notebook downloads the entire ShapeNetCore dataset from Huggingface. Since it's a restricted dataset, you need to request access and then generate a token from your account settings."
   ]
  },
  {
   "cell_type": "code",
   "execution_count": 2,
   "id": "dc7c9693",
   "metadata": {},
   "outputs": [
    {
     "data": {
      "text/plain": [
       "True"
      ]
     },
     "execution_count": 2,
     "metadata": {},
     "output_type": "execute_result"
    }
   ],
   "source": [
    "load_dotenv()"
   ]
  },
  {
   "cell_type": "code",
   "execution_count": 27,
   "id": "06eadf56",
   "metadata": {},
   "outputs": [
    {
     "name": "stdout",
     "output_type": "stream",
     "text": [
      "Removing already downloaded category 02843684.\n",
      "1 / 55\n"
     ]
    },
    {
     "name": "stderr",
     "output_type": "stream",
     "text": [
      "Downloading 02843684.zip: 100%|██████████| 4.21M/4.21M [00:00<00:00, 27.3MB/s]\n",
      "                                                                      \r"
     ]
    }
   ],
   "source": [
    "dataset = ShapeNetCoreDataset3D()\n",
    "dataset.download(first=1, fresh=True)"
   ]
  },
  {
   "cell_type": "code",
   "execution_count": 8,
   "id": "f2048298",
   "metadata": {},
   "outputs": [
    {
     "data": {
      "text/html": [
       "<pre style=\"white-space:pre;overflow-x:auto;line-height:normal;font-family:Menlo,'DejaVu Sans Mono',consolas,'Courier New',monospace\"><span style=\"color: #7fbfbf; text-decoration-color: #7fbfbf\">[05/17/25 00:37:46] </span><span style=\"color: #000080; text-decoration-color: #000080\">INFO    </span> You have downloaded a total of <span style=\"color: #008080; text-decoration-color: #008080; font-weight: bold\">326</span> objects!.                                          \n",
       "</pre>\n"
      ],
      "text/plain": [
       "\u001b[2;36m[05/17/25 00:37:46]\u001b[0m\u001b[2;36m \u001b[0m\u001b[34mINFO    \u001b[0m You have downloaded a total of \u001b[1;36m326\u001b[0m objects!.                                          \n"
      ]
     },
     "metadata": {},
     "output_type": "display_data"
    }
   ],
   "source": [
    "log(\"You have downloaded a total of\", f\"blue:{len(dataset.paths)}\", \"objects!\")"
   ]
  }
 ],
 "metadata": {
  "kernelspec": {
   "display_name": "Python 3",
   "language": "python",
   "name": "python3"
  },
  "language_info": {
   "codemirror_mode": {
    "name": "ipython",
    "version": 3
   },
   "file_extension": ".py",
   "mimetype": "text/x-python",
   "name": "python",
   "nbconvert_exporter": "python",
   "pygments_lexer": "ipython3",
   "version": "3.10.16"
  }
 },
 "nbformat": 4,
 "nbformat_minor": 5
}
