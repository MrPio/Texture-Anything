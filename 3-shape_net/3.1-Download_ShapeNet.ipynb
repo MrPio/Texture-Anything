{
 "cells": [
  {
   "cell_type": "code",
   "execution_count": null,
   "id": "19f724a5",
   "metadata": {},
   "outputs": [],
   "source": [
    "import sys\n",
    "import os\n",
    "from huggingface_hub import login"
   ]
  },
  {
   "cell_type": "markdown",
   "id": "5ec940b6",
   "metadata": {},
   "source": [
    "# Download ShapeNetCore dataset\n",
    "#### 🧹 This notebook is in a _dirty_ state. Should definitely be refactored.\n",
    "This notebook downloads the entire ShapeNetCore dataset from Huggingface. Since it's a restricted dataset, you need to request access and then generate a token from your account settings."
   ]
  },
  {
   "cell_type": "code",
   "execution_count": null,
   "id": "8d4c8739",
   "metadata": {},
   "outputs": [],
   "source": [
    "os.environ['HF_TOKEN']='YOUR_TOKEN'"
   ]
  },
  {
   "cell_type": "code",
   "execution_count": null,
   "id": "06eadf56",
   "metadata": {},
   "outputs": [],
   "source": [
    "login(os.environ['HF_TOKEN'])\n",
    "!sh download_shapenet.sh ../.shapenet"
   ]
  },
  {
   "cell_type": "markdown",
   "id": "8fbe8c71",
   "metadata": {},
   "source": [
    " Use `unzip \\*.zip` to unpack the downloaded files in the `.shapenet/` root folder."
   ]
  }
 ],
 "metadata": {
  "kernelspec": {
   "display_name": ".venv",
   "language": "python",
   "name": "python3"
  },
  "language_info": {
   "codemirror_mode": {
    "name": "ipython",
    "version": 3
   },
   "file_extension": ".py",
   "mimetype": "text/x-python",
   "name": "python",
   "nbconvert_exporter": "python",
   "pygments_lexer": "ipython3",
   "version": "3.11.6"
  }
 },
 "nbformat": 4,
 "nbformat_minor": 5
}
