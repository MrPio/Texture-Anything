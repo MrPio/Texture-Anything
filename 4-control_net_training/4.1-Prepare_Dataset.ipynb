{
 "cells": [
  {
   "cell_type": "code",
   "execution_count": 1,
   "id": "03f91657",
   "metadata": {},
   "outputs": [],
   "source": [
    "import sys\n",
    "from pathlib import Path\n",
    "from tqdm import tqdm\n",
    "import random\n",
    "from shutil import copy\n",
    "import pandas as pd\n",
    "\n",
    "sys.path.append(str(Path(\"..\").resolve()))\n",
    "from src import *"
   ]
  },
  {
   "cell_type": "markdown",
   "id": "f25825b5",
   "metadata": {},
   "source": [
    "# Prepare dataset for ControlNet training\n",
    "\n",
    "##### ℹ️ This notebook requires the triplets `uv`, `caption` and `diffuse` for each dataset considered\n",
    "\n",
    "In this notebook we move all the generated triplets to a single folder, compliant with `ImageFolder` dataset. See more at [Create an image dataset](https://huggingface.co/docs/datasets/image_dataset#imagefolder)"
   ]
  },
  {
   "cell_type": "code",
   "execution_count": 9,
   "id": "3a5f3b2e",
   "metadata": {},
   "outputs": [],
   "source": [
    "MAX_DATASET_SIZE = 10\n",
    "TEST_SET_RATIO = 0.1\n",
    "OUTPUT_PATH = Path(\"../dataset\")"
   ]
  },
  {
   "cell_type": "code",
   "execution_count": 3,
   "id": "2d5f5938",
   "metadata": {},
   "outputs": [],
   "source": [
    "datasets: list[Dataset3D] = [ObjaverseDataset3D()]"
   ]
  },
  {
   "cell_type": "code",
   "execution_count": 10,
   "id": "5d0767dc",
   "metadata": {},
   "outputs": [],
   "source": [
    "train_path = OUTPUT_PATH / \"train\"\n",
    "test_path = OUTPUT_PATH / \"test\"\n",
    "for path in [train_path, test_path]:\n",
    "    for folder in [\"diffuse\", \"uv\"]:\n",
    "        (path / folder).mkdir(parents=True, exist_ok=True)"
   ]
  },
  {
   "cell_type": "code",
   "execution_count": 11,
   "id": "05278c9e",
   "metadata": {},
   "outputs": [
    {
     "name": "stdout",
     "output_type": "stream",
     "text": [
      "\u001b[1m\u001b[33mObjaverseDataset3D\u001b[0m has \u001b[1m\u001b[34m13,700\u001b[0m uids, \u001b[1m\u001b[34m10\u001b[0m of them are valid.\n"
     ]
    },
    {
     "name": "stderr",
     "output_type": "stream",
     "text": [
      "100%|██████████| 10/10 [00:00<00:00, 180.02it/s]\n"
     ]
    }
   ],
   "source": [
    "metadata = pd.DataFrame(columns=[\"uv\", \"diffuse\", \"caption\"])\n",
    "for dataset in datasets:\n",
    "    valid_uids = dataset.statistics[\"valid\"].index\n",
    "    avail_uids = dataset.triplets\n",
    "    uids = list(avail_uids.intersection(valid_uids))\n",
    "    if MAX_DATASET_SIZE:\n",
    "        uids = uids[:MAX_DATASET_SIZE]\n",
    "    train_uids = random.choices(list(uids), k=int(len(uids) * 0.9))\n",
    "    cprint(f\"yellow:{dataset.__class__.__name__}\", \"has\", len(avail_uids), \"uids,\", len(uids), \"of them are valid.\")\n",
    "    uv_paths = {x.stem: x for x in (dataset.DATASET_PATH / \"uv\").glob(\"*\") if x.suffix in dataset.IMG_EXT}\n",
    "    diffuse_paths = {x.stem: x for x in (dataset.DATASET_PATH / \"diffuse\").glob(\"*\") if x.suffix in dataset.IMG_EXT}\n",
    "    captions = dataset.captions\n",
    "\n",
    "    for uid in tqdm(uids):\n",
    "        path = train_path if uid in train_uids else test_path\n",
    "        copy(uv_paths[uid], path / \"uv\")\n",
    "        copy(diffuse_paths[uid], path / \"diffuse\")\n",
    "        metadata.loc[-1] = [\n",
    "            uv_paths[uid].name,\n",
    "            diffuse_paths[uid].name,\n",
    "            captions[uid],\n",
    "        ]\n",
    "        metadata.index += 1\n",
    "metadata.to_csv(OUTPUT_PATH / \"metadata.csv\", index=False)"
   ]
  },
  {
   "cell_type": "code",
   "execution_count": 29,
   "id": "1488aac8",
   "metadata": {},
   "outputs": [
    {
     "name": "stdout",
     "output_type": "stream",
     "text": [
      "Dataset size: \u001b[1m\u001b[34m22.0\u001b[0m \u001b[1m\u001b[32mMiB\u001b[0m\n"
     ]
    }
   ],
   "source": [
    "size = sum(f.stat().st_size for f in train_path.glob(\"**/*\") if f.is_file()) / (1 - TEST_SET_RATIO)\n",
    "cprint(\"Dataset size:\", size // 1024**2, \"green:MiB\")"
   ]
  }
 ],
 "metadata": {
  "kernelspec": {
   "display_name": ".venv",
   "language": "python",
   "name": "python3"
  },
  "language_info": {
   "codemirror_mode": {
    "name": "ipython",
    "version": 3
   },
   "file_extension": ".py",
   "mimetype": "text/x-python",
   "name": "python",
   "nbconvert_exporter": "python",
   "pygments_lexer": "ipython3",
   "version": "3.11.6"
  }
 },
 "nbformat": 4,
 "nbformat_minor": 5
}
