{
 "cells": [
  {
   "cell_type": "code",
   "execution_count": 3,
   "id": "bc0cec4f",
   "metadata": {},
   "outputs": [],
   "source": [
    "import sys\n",
    "from pathlib import Path\n",
    "from tqdm import tqdm\n",
    "import trimesh\n",
    "from PIL import Image\n",
    "from PIL.ImageOps import flip\n",
    "import pandas as pd\n",
    "import trimesh, numpy as np, math, io\n",
    "from PIL import Image\n",
    "\n",
    "sys.path.append(str(Path(\"..\").resolve()))\n",
    "from src import *"
   ]
  },
  {
   "cell_type": "markdown",
   "id": "05ea22e8",
   "metadata": {},
   "source": [
    "# Evaluate the checkpoints over the testset."
   ]
  },
  {
   "cell_type": "code",
   "execution_count": null,
   "id": "9d1894b3",
   "metadata": {},
   "outputs": [],
   "source": [
    "TESTSET_DIR = Path(\"./dataset/test\")\n",
    "testset = pd.read_csv(TESTSET_DIR / \"metadata.csv\")\n",
    "testset.index = pd.Series(testset.uv_file_name.map(lambda x: Path(x).stem), name=\"uid\")"
   ]
  },
  {
   "cell_type": "code",
   "execution_count": null,
   "id": "7cb13927",
   "metadata": {},
   "outputs": [],
   "source": [
    "sd15_7000_dir = Path(\"tests/SD1.5_CNmlsd_64bs_1e-5lr_8k_combined-loss_7000s/\")\n",
    "sdxl_7000_dir = Path(\"tests/SDxl_CN_32bs_1e-5lr_8k_latent-loss_7000s\")"
   ]
  },
  {
   "cell_type": "code",
   "execution_count": 2,
   "id": "3093d7cb",
   "metadata": {},
   "outputs": [
    {
     "ename": "NameError",
     "evalue": "name 'sdxl_7000_dir' is not defined",
     "output_type": "error",
     "traceback": [
      "\u001b[31m---------------------------------------------------------------------------\u001b[39m",
      "\u001b[31mNameError\u001b[39m                                 Traceback (most recent call last)",
      "\u001b[36mCell\u001b[39m\u001b[36m \u001b[39m\u001b[32mIn[2]\u001b[39m\u001b[32m, line 1\u001b[39m\n\u001b[32m----> \u001b[39m\u001b[32m1\u001b[39m \u001b[38;5;28;01mfor\u001b[39;00m i, file \u001b[38;5;129;01min\u001b[39;00m \u001b[38;5;28menumerate\u001b[39m(x.name \u001b[38;5;28;01mfor\u001b[39;00m x \u001b[38;5;129;01min\u001b[39;00m \u001b[43msdxl_7000_dir\u001b[49m.glob(\u001b[33m\"\u001b[39m\u001b[33m*.png\u001b[39m\u001b[33m\"\u001b[39m)):\n\u001b[32m      2\u001b[39m     \u001b[38;5;28;01mif\u001b[39;00m \u001b[38;5;129;01mnot\u001b[39;00m (sdxl_7000_dir / file).exists():\n\u001b[32m      3\u001b[39m         \u001b[38;5;28;01mcontinue\u001b[39;00m\n",
      "\u001b[31mNameError\u001b[39m: name 'sdxl_7000_dir' is not defined"
     ]
    }
   ],
   "source": [
    "for i, file in enumerate(x.name for x in sdxl_7000_dir.glob(\"*.png\")):\n",
    "    if not (sdxl_7000_dir / file).exists():\n",
    "        continue\n",
    "    uv = TESTSET_DIR / \"uv\" / file\n",
    "    gt = TESTSET_DIR / \"diffuse\" / file\n",
    "    cprint(f\"green:{testset.caption[Path(file).stem]}\")\n",
    "    plot_images(\n",
    "        images={\n",
    "            f\"({i}) UV\": uv,\n",
    "            \"Ground truth\": gt,\n",
    "            \"SD 1.5 (7000 steps)\": sd15_7000_dir / file,\n",
    "            \"SD XL  (7000 steps)\": sdxl_7000_dir / file,\n",
    "        },\n",
    "    )"
   ]
  }
 ],
 "metadata": {
  "kernelspec": {
   "display_name": ".venv",
   "language": "python",
   "name": "python3"
  },
  "language_info": {
   "codemirror_mode": {
    "name": "ipython",
    "version": 3
   },
   "file_extension": ".py",
   "mimetype": "text/x-python",
   "name": "python",
   "nbconvert_exporter": "python",
   "pygments_lexer": "ipython3",
   "version": "3.11.6"
  }
 },
 "nbformat": 4,
 "nbformat_minor": 5
}
