{
 "cells": [
  {
   "cell_type": "code",
   "execution_count": null,
   "id": "7b0d3dce",
   "metadata": {
    "vscode": {
     "languageId": "plaintext"
    }
   },
   "outputs": [],
   "source": [
    "import sys\n",
    "from pathlib import Path\n",
    "from tqdm import tqdm\n",
    "from PIL import Image\n",
    "import pandas as pd\n",
    "import random\n",
    "\n",
    "sys.path.append(str(Path(\"..\").resolve()))\n",
    "from src import *\n",
    "from src.object_3d import Object3D"
   ]
  },
  {
   "cell_type": "code",
   "execution_count": null,
   "id": "3b9bf33e",
   "metadata": {
    "vscode": {
     "languageId": "plaintext"
    }
   },
   "outputs": [],
   "source": [
    "# === Load test set ===\n",
    "TESTSET_DIR = Path(\"./dataset/test\")\n",
    "testset = pd.read_csv(TESTSET_DIR / \"metadata.csv\")\n",
    "testset.index = pd.Series(testset.uv_file_name.map(lambda x: Path(x).stem), name=\"uid\")"
   ]
  },
  {
   "cell_type": "code",
   "execution_count": null,
   "id": "926d3700",
   "metadata": {
    "vscode": {
     "languageId": "plaintext"
    }
   },
   "outputs": [],
   "source": [
    "# === Paths ===\n",
    "diffuse_dir = TESTSET_DIR / \"diffuse\"\n",
    "vanilla_texture_dir = Path(\"tests/lllyasviel-sd-controlnet-mlsd-old\")\n",
    "custom_texture_dir = Path(\"tests/SD1.5_CNmlsd_128bs_5e-6lr_13k_2500s\")"
   ]
  },
  {
   "cell_type": "code",
   "execution_count": null,
   "id": "be5b7b5b",
   "metadata": {
    "vscode": {
     "languageId": "plaintext"
    }
   },
   "outputs": [],
   "source": [
    "# === Sample random files ===\n",
    "sample_files = random.sample(list(vanilla_texture_dir.glob(\"*.png\")), k=5)\n",
    "\n",
    "# === Render each object with both textures ===\n",
    "for i, file in enumerate(sample_files):\n",
    "    uid = Path(file).stem\n",
    "    caption = testset.caption[uid]\n",
    "    obj_file = TESTSET_DIR / \"meshes\" / f\"{uid}.glb\"\n",
    "\n",
    "    # Load object\n",
    "    obj = Object3D(uid=uid, path=obj_file)\n",
    "\n",
    "    # === Set vanilla texture and render ===\n",
    "    obj.set_texture(str(vanilla_texture_dir / f\"{uid}.png\"))\n",
    "    vanilla_renders = obj.render(views=4)\n",
    "\n",
    "    # === Set generated texture and render ===\n",
    "    obj.set_texture(str(custom_texture_dir / f\"{uid}.png\"))\n",
    "    custom_renders = obj.render(views=4)\n",
    "\n",
    "    # === Display comparison ===\n",
    "    print(f\"\\n\\033[92m[{i}] {caption}\\033[0m\")\n",
    "    plot_images(\n",
    "        images={\n",
    "            \"Vanilla Texture Render\": vanilla_renders[0],\n",
    "            \"Custom Texture Render\": custom_renders[0],\n",
    "        },\n",
    "    )\n"
   ]
  }
 ],
 "metadata": {
  "language_info": {
   "name": "python"
  }
 },
 "nbformat": 4,
 "nbformat_minor": 5
}
