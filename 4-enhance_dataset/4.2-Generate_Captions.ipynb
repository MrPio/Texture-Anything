{
 "cells": [
  {
   "cell_type": "code",
   "execution_count": null,
   "id": "d8f6b1ac",
   "metadata": {},
   "outputs": [],
   "source": []
  },
  {
   "cell_type": "markdown",
   "id": "4e384d6f",
   "metadata": {},
   "source": [
    "# Generate captions from renders\n",
    "This notebooks employs SOTA "
   ]
  }
 ],
 "metadata": {
  "language_info": {
   "name": "python"
  }
 },
 "nbformat": 4,
 "nbformat_minor": 5
}
